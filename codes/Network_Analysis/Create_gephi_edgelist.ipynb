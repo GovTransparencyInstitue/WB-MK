{
 "cells": [
  {
   "cell_type": "code",
   "execution_count": null,
   "metadata": {},
   "outputs": [],
   "source": [
    "import pandas as pd\n",
    "import numpy as np\n",
    "import os"
   ]
  },
  {
   "cell_type": "code",
   "execution_count": null,
   "metadata": {},
   "outputs": [],
   "source": [
    "os.getcwd()"
   ]
  },
  {
   "cell_type": "code",
   "execution_count": null,
   "metadata": {},
   "outputs": [],
   "source": [
    "os.makedirs('data/Gephi_files', exist_ok=True)"
   ]
  },
  {
   "cell_type": "code",
   "execution_count": null,
   "metadata": {},
   "outputs": [],
   "source": [
    "# Set input and output directory paths\n",
    "input_dir = 'data/edgelists/'\n",
    "output_dir = 'data/Gephi_files/'\n",
    "\n",
    "# Loop over files in input directory\n",
    "for filename in os.listdir(input_dir):\n",
    "    \n",
    "    if 'og' in filename:\n",
    "        print('Ignore')\n",
    "        continue\n",
    "\n",
    "    # Load input file\n",
    "    df = pd.read_csv(os.path.join(input_dir, filename), encoding=\"utf-8\")\n",
    "\n",
    "    # Process data and generate node and edge lists\n",
    "    buyers = df[['buyer_id', 'buyer_contracts', 'buyer_cri', 'buyer_tot_value']]\n",
    "    buyers['Label'] = 'buyer'\n",
    "    buyers = buyers.rename(columns={'buyer_id': 'Id',\n",
    "                                    'buyer_contracts': 'contract_number',\n",
    "                                    'buyer_cri': 'cri',\n",
    "                                    'buyer_tot_value': 'tot_value'})\n",
    "\n",
    "    bidders = df[['bidder_id', 'bidder_contracts', 'bidder_cri', 'bidder_tot_value']]\n",
    "    bidders['Label'] = 'supplier'\n",
    "    bidders = bidders.rename(columns={'bidder_id': 'Id',\n",
    "                                      'bidder_contracts': 'contract_number',\n",
    "                                      'bidder_cri': 'cri',\n",
    "                                      'bidder_tot_value': 'tot_value'})\n",
    "    \n",
    "    node_list = pd.concat([buyers, bidders])\n",
    "    node_list = node_list.drop_duplicates(subset=['Id'])\n",
    "    \n",
    "    if 'beton' in filename:\n",
    "        print('In Beton')\n",
    "        beton = ['S_895','S_1534','S_825','S_499','S_7759','S_1533','S_7583',\n",
    "         'S_824','S_857','S_856','S_826','S_896','S_827','S_500']\n",
    "        node_list.loc[node_list['Id'].isin(beton), 'Label'] = 'supplier_beton'\n",
    "    elif 'roads' in filename:\n",
    "        print('In Roads')\n",
    "        roads_buyer = ['B_1191','B_1481','B_21']\n",
    "        node_list.loc[node_list['Id'].isin(roads_buyer), 'Label'] = 'buyer_roads'\n",
    "        roads_supplier = ['S_11839']\n",
    "        node_list.loc[node_list['Id'].isin(roads_supplier), 'Label'] = 'supplier_roads'\n",
    "    \n",
    "    node_list['tag'] = node_list['Label']\n",
    "    edges = df[['buyer_id', 'bidder_id', 'edge_contracts', 'edge_cri', 'edge_tot_value']]\n",
    "    edges = edges.rename(columns={'buyer_id': 'Source',\n",
    "                                  'bidder_id': 'Target',\n",
    "                                  'edge_contracts': 'edge_contracts',\n",
    "                                  'edge_cri': 'edge_cri',\n",
    "                                  'edge_tot_value': 'tot_value'})\n",
    "    edges['Type'] = 'undirected'\n",
    "    edges['edge_cri'] = np.where(edges['edge_cri'] == 0, 0.0000001, edges['edge_cri'])\n",
    "    edges['Weight'] = edges['edge_cri']\n",
    "\n",
    "\n",
    "    # Write output files\n",
    "    node_list.to_csv(os.path.join(output_dir, f'nodelist_{filename}'), index=False)\n",
    "    edges.to_csv(os.path.join(output_dir, f'edgelist_{filename}'), index=False)"
   ]
  }
 ],
 "metadata": {
  "kernelspec": {
   "display_name": "Python 3 (ipykernel)",
   "language": "python",
   "name": "python3"
  },
  "language_info": {
   "codemirror_mode": {
    "name": "ipython",
    "version": 3
   },
   "file_extension": ".py",
   "mimetype": "text/x-python",
   "name": "python",
   "nbconvert_exporter": "python",
   "pygments_lexer": "ipython3",
   "version": "3.10.12"
  }
 },
 "nbformat": 4,
 "nbformat_minor": 2
}
