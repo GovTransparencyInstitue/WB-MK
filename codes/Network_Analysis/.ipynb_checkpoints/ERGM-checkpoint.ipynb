{
 "cells": [
  {
   "cell_type": "code",
   "execution_count": null,
   "metadata": {},
   "outputs": [],
   "source": [
    "library(ergm)\n",
    "\n",
    "# load sample network data\n",
    "data(faux.magnolia)\n",
    "\n",
    "# fit ERGM with nodematch term\n",
    "model <- ergm(faux.magnolia ~ nodematch(\"race\"), \n",
    "              control = control.ergm(seed = 123))\n",
    "\n",
    "# print model summary\n",
    "summary(model)\n",
    "\n",
    "# plot network and highlight nodematch edges\n",
    "plot(faux.magnolia, edge.col = ifelse(model ~ nodematch, \"red\", \"black\"))\n",
    "\n",
    "# simulate new networks from the fitted model\n",
    "simulated_networks <- simulate(model, nsim = 10)\n",
    "\n",
    "# calculate network statistics for simulated networks\n",
    "stats <- network.statistics(simulated_networks)\n",
    "\n",
    "# plot simulated network statistics\n",
    "plot(stats)\n"
   ]
  }
 ],
 "metadata": {
  "kernelspec": {
   "display_name": "Python 3 (ipykernel)",
   "language": "python",
   "name": "python3"
  }
 },
 "nbformat": 4,
 "nbformat_minor": 2
}
