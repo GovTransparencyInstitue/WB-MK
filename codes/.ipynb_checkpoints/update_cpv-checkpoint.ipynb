{
 "cells": [
  {
   "cell_type": "code",
   "execution_count": 1,
   "metadata": {},
   "outputs": [],
   "source": [
    "import csv\n",
    "import sys\n",
    "\n"
   ]
  },
  {
   "cell_type": "code",
   "execution_count": 17,
   "metadata": {},
   "outputs": [],
   "source": [
    "\n",
    "def main(input_file, target_file, output_file):\n",
    "    # Load target words from the specified CSV file\n",
    "    with open(target_file, 'r', encoding=\"utf8\") as file:\n",
    "        reader = csv.DictReader(file)\n",
    "        target_data = list(reader)\n",
    "\n",
    "    # Create a set of target words from column A in the target CSV file\n",
    "    target_words = set(word for row in target_data for word in row['cpv_desc_mk'].split())\n",
    "\n",
    "    # Load data from the specified input CSV file\n",
    "    with open(input_file, 'r', encoding=\"utf8\") as file:\n",
    "        reader = csv.DictReader(file)\n",
    "        data = list(reader)\n",
    "\n",
    "    # Check each row in the input CSV file\n",
    "    for i, row in enumerate(data):\n",
    "\n",
    "        # If column tender_cpvs is empty, get corresponding tender_title and lot_title and create text words set\n",
    "        if not row['tender_cpvs']:\n",
    "            text_set = set(word for col in [row['tender_title'], row['lot_title']] for word in col.split())\n",
    "            result = None\n",
    "\n",
    "            # check if text words set contains all target words set\n",
    "            for target_row in target_data:\n",
    "                target_words_set = set(word for word in target_row['cpv_desc_mk'].split())\n",
    "                if target_words_set.issubset(text_set):\n",
    "#                     print(target_row)\n",
    "                    result = target_row['\\ufeffcpv_codes']\n",
    "                    break\n",
    "\n",
    "            # fill tender_cpvs with corresponding result, or 99000000 if no match found\n",
    "            data[i]['tender_cpvs'] = result if result is not None else ''\n",
    "#             99000000\n",
    "\n",
    "    # Write updated data to output CSV file\n",
    "    with open(output_file, 'w', encoding=\"utf8\", newline='') as file:\n",
    "        writer = csv.DictWriter(file, fieldnames=reader.fieldnames)\n",
    "        writer.writeheader()\n",
    "        writer.writerows(data)\n",
    "\n"
   ]
  },
  {
   "cell_type": "code",
   "execution_count": 18,
   "metadata": {},
   "outputs": [
    {
     "name": "stdout",
     "output_type": "stream",
     "text": [
      "{'\\ufeffcpv_codes': '15511000-3', 'cpv_desc_en': 'Milk', 'cpv_desc_mk': 'Млеко'}\n",
      "{'\\ufeffcpv_codes': '39224340-3', 'cpv_desc_en': 'Bins', 'cpv_desc_mk': 'Канти'}\n",
      "{'\\ufeffcpv_codes': '31711140-6', 'cpv_desc_en': 'Electrodes', 'cpv_desc_mk': 'Електроди'}\n",
      "{'\\ufeffcpv_codes': '30192700-8', 'cpv_desc_en': 'Stationery', 'cpv_desc_mk': 'Канцелариски материјал'}\n",
      "{'\\ufeffcpv_codes': '45000000-7', 'cpv_desc_en': 'Construction work', 'cpv_desc_mk': 'Градежни работи'}\n",
      "{'\\ufeffcpv_codes': '33140000-3', 'cpv_desc_en': 'Medical consumables', 'cpv_desc_mk': 'Медицински потрошен материјал'}\n",
      "{'\\ufeffcpv_codes': '24413300-5', 'cpv_desc_en': 'Ammonium sulphate', 'cpv_desc_mk': 'Амониум сулфат'}\n",
      "{'\\ufeffcpv_codes': '14783000-3', 'cpv_desc_en': 'Sodium', 'cpv_desc_mk': 'Натриум'}\n",
      "{'\\ufeffcpv_codes': '15980000-1', 'cpv_desc_en': 'Non-alcoholic beverages', 'cpv_desc_mk': 'Безалкохолни пијалоци'}\n",
      "{'\\ufeffcpv_codes': '24111500-0', 'cpv_desc_en': 'Medical gases', 'cpv_desc_mk': 'Медицински гасови'}\n",
      "{'\\ufeffcpv_codes': '44110000-4', 'cpv_desc_en': 'Construction materials', 'cpv_desc_mk': 'Градежни материјали'}\n",
      "{'\\ufeffcpv_codes': '33140000-3', 'cpv_desc_en': 'Medical consumables', 'cpv_desc_mk': 'Медицински потрошен материјал'}\n",
      "{'\\ufeffcpv_codes': '75100000-7', 'cpv_desc_en': 'Administration services', 'cpv_desc_mk': 'Услуги за администрација'}\n",
      "{'\\ufeffcpv_codes': '33140000-3', 'cpv_desc_en': 'Medical consumables', 'cpv_desc_mk': 'Медицински потрошен материјал'}\n",
      "{'\\ufeffcpv_codes': '14211000-3', 'cpv_desc_en': 'Sand', 'cpv_desc_mk': 'Песок'}\n",
      "{'\\ufeffcpv_codes': '39221110-1', 'cpv_desc_en': 'Crockery', 'cpv_desc_mk': 'Садови'}\n",
      "{'\\ufeffcpv_codes': '90524000-6', 'cpv_desc_en': 'Medical waste services', 'cpv_desc_mk': 'Услуги за медицински отпад'}\n",
      "{'\\ufeffcpv_codes': '03311000-2', 'cpv_desc_en': 'Fish', 'cpv_desc_mk': 'Риба'}\n",
      "{'\\ufeffcpv_codes': '39122200-5', 'cpv_desc_en': 'Bookcases', 'cpv_desc_mk': 'Книги'}\n",
      "{'\\ufeffcpv_codes': '03115130-0', 'cpv_desc_en': 'Flax', 'cpv_desc_mk': 'Леб'}\n",
      "{'\\ufeffcpv_codes': '44110000-4', 'cpv_desc_en': 'Construction materials', 'cpv_desc_mk': 'Градежни материјали'}\n",
      "{'\\ufeffcpv_codes': '15110000-2', 'cpv_desc_en': 'Meat', 'cpv_desc_mk': 'Месо'}\n",
      "{'\\ufeffcpv_codes': '44110000-4', 'cpv_desc_en': 'Construction materials', 'cpv_desc_mk': 'Градежни материјали'}\n",
      "{'\\ufeffcpv_codes': '33140000-3', 'cpv_desc_en': 'Medical consumables', 'cpv_desc_mk': 'Медицински потрошен материјал'}\n",
      "{'\\ufeffcpv_codes': '33141121-4', 'cpv_desc_en': 'Surgical sutures', 'cpv_desc_mk': 'Хируршки конци'}\n",
      "{'\\ufeffcpv_codes': '33140000-3', 'cpv_desc_en': 'Medical consumables', 'cpv_desc_mk': 'Медицински потрошен материјал'}\n",
      "{'\\ufeffcpv_codes': '33600000-6', 'cpv_desc_en': 'Pharmaceutical products', 'cpv_desc_mk': 'Фармацевтски производи'}\n",
      "{'\\ufeffcpv_codes': '79211000-6', 'cpv_desc_en': 'Accounting services', 'cpv_desc_mk': 'Сметководствени услуги'}\n",
      "{'\\ufeffcpv_codes': '33651600-4', 'cpv_desc_en': 'Vaccines', 'cpv_desc_mk': 'Вакцини'}\n",
      "{'\\ufeffcpv_codes': '44511320-4', 'cpv_desc_en': 'Picks', 'cpv_desc_mk': 'Избор'}\n",
      "{'\\ufeffcpv_codes': '30192000-1', 'cpv_desc_en': 'Office supplies', 'cpv_desc_mk': 'Канцелариски материјали'}\n",
      "{'\\ufeffcpv_codes': '30213300-8', 'cpv_desc_en': 'Desktop computer', 'cpv_desc_mk': 'Десктоп компјутер'}\n",
      "{'\\ufeffcpv_codes': '15861000-1', 'cpv_desc_en': 'Coffee', 'cpv_desc_mk': 'Кафе'}\n",
      "{'\\ufeffcpv_codes': '33140000-3', 'cpv_desc_en': 'Medical consumables', 'cpv_desc_mk': 'Медицински потрошен материјал'}\n",
      "{'\\ufeffcpv_codes': '50000000-5', 'cpv_desc_en': 'Repair and maintenance services', 'cpv_desc_mk': 'Услуги за поправка и одржување'}\n",
      "{'\\ufeffcpv_codes': '03115130-0', 'cpv_desc_en': 'Flax', 'cpv_desc_mk': 'Леб'}\n",
      "{'\\ufeffcpv_codes': '33711900-6', 'cpv_desc_en': 'Soap', 'cpv_desc_mk': 'Сапун'}\n",
      "{'\\ufeffcpv_codes': '15412000-9', 'cpv_desc_en': 'Fats', 'cpv_desc_mk': 'Масти'}\n",
      "{'\\ufeffcpv_codes': '22852000-7', 'cpv_desc_en': 'Folders', 'cpv_desc_mk': 'Папки'}\n",
      "{'\\ufeffcpv_codes': '44511320-4', 'cpv_desc_en': 'Picks', 'cpv_desc_mk': 'Избор'}\n",
      "{'\\ufeffcpv_codes': '42962200-9', 'cpv_desc_en': 'Printing press', 'cpv_desc_mk': 'Печатење'}\n",
      "{'\\ufeffcpv_codes': '44511320-4', 'cpv_desc_en': 'Picks', 'cpv_desc_mk': 'Избор'}\n",
      "{'\\ufeffcpv_codes': '33140000-3', 'cpv_desc_en': 'Medical consumables', 'cpv_desc_mk': 'Медицински потрошен материјал'}\n",
      "{'\\ufeffcpv_codes': '30192000-1', 'cpv_desc_en': 'Office supplies', 'cpv_desc_mk': 'Канцелариски материјали'}\n",
      "{'\\ufeffcpv_codes': '33600000-6', 'cpv_desc_en': 'Pharmaceutical products', 'cpv_desc_mk': 'Фармацевтски производи'}\n",
      "{'\\ufeffcpv_codes': '30192000-1', 'cpv_desc_en': 'Office supplies', 'cpv_desc_mk': 'Канцелариски материјали'}\n",
      "{'\\ufeffcpv_codes': '44511320-4', 'cpv_desc_en': 'Picks', 'cpv_desc_mk': 'Избор'}\n"
     ]
    }
   ],
   "source": [
    "\n",
    "# if __name__ == '__main__':\n",
    "#     if len(sys.argv) != 4:\n",
    "#         print(f\"Usage: python3 {sys.argv[0]} input_file target_file output_file\")\n",
    "#         sys.exit(1)\n",
    "input_file = \"C:/Ourfolders/Aly/MK_WB/data/processed/MK_cpvs_to_fix.csv\"\n",
    "target_file = \"C:/Ourfolders/Aly/MK_WB/data/utility/cpv_2007.csv\"\n",
    "output_file = \"C:/Ourfolders/Aly/MK_WB/data/processed/MK_202302_cpv_update.csv\"\n",
    "main(input_file, target_file, output_file)"
   ]
  }
 ],
 "metadata": {
  "kernelspec": {
   "display_name": "Python 3 (ipykernel)",
   "language": "python",
   "name": "python3"
  },
  "language_info": {
   "codemirror_mode": {
    "name": "ipython",
    "version": 3
   },
   "file_extension": ".py",
   "mimetype": "text/x-python",
   "name": "python",
   "nbconvert_exporter": "python",
   "pygments_lexer": "ipython3",
   "version": "3.9.13"
  }
 },
 "nbformat": 4,
 "nbformat_minor": 2
}
