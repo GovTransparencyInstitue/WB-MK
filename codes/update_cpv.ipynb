{
 "cells": [
  {
   "cell_type": "code",
   "execution_count": 23,
   "metadata": {},
   "outputs": [],
   "source": [
    "import csv\n",
    "import sys\n",
    "\n"
   ]
  },
  {
   "cell_type": "code",
   "execution_count": 24,
   "metadata": {},
   "outputs": [],
   "source": [
    "\n",
    "def main(input_file, target_file, output_file):\n",
    "    # Load target words from the specified CSV file\n",
    "    with open(target_file, 'r', encoding=\"utf8\") as file:\n",
    "        reader = csv.DictReader(file)\n",
    "        target_data = list(reader)\n",
    "\n",
    "    # Create a set of target words from column A in the target CSV file\n",
    "    target_words = set(word for row in target_data for word in row['cpv_desc_mk'].split())\n",
    "\n",
    "    # Load data from the specified input CSV file\n",
    "    with open(input_file, 'r', encoding=\"utf8\") as file:\n",
    "        reader = csv.DictReader(file)\n",
    "        data = list(reader)\n",
    "\n",
    "    # Check each row in the input CSV file\n",
    "    for i, row in enumerate(data):\n",
    "\n",
    "        # If column tender_cpvs is empty, get corresponding tender_title and lot_title and create text words set\n",
    "        if not row['tender_cpvs']:\n",
    "            text_set = set(word for col in [row['tender_title'], row['lot_title']] for word in col.split())\n",
    "            result = None\n",
    "\n",
    "            # check if text words set contains all target words set\n",
    "            for target_row in target_data:\n",
    "                target_words_set = set(word for word in target_row['cpv_desc_mk'].split())\n",
    "                if target_words_set.issubset(text_set):\n",
    "#                     print(target_row)\n",
    "                    result = target_row['\\ufeffcpv_codes']\n",
    "                    break\n",
    "\n",
    "            # fill tender_cpvs with corresponding result, or 99000000 if no match found\n",
    "            data[i]['tender_cpvs'] = result if result is not None else ''\n",
    "#             99000000\n",
    "\n",
    "    # Write updated data to output CSV file\n",
    "    with open(output_file, 'w', encoding=\"utf8\", newline='') as file:\n",
    "        writer = csv.DictWriter(file, fieldnames=reader.fieldnames)\n",
    "        writer.writeheader()\n",
    "        writer.writerows(data)\n",
    "\n"
   ]
  },
  {
   "cell_type": "code",
   "execution_count": 25,
   "metadata": {},
   "outputs": [],
   "source": [
    "\n",
    "# if __name__ == '__main__':\n",
    "#     if len(sys.argv) != 4:\n",
    "#         print(f\"Usage: python3 {sys.argv[0]} input_file target_file output_file\")\n",
    "#         sys.exit(1)\n",
    "input_file = \"C:/Ourfolders/Aly/MK_WB/data/processed/MK_cpvs_to_fix.csv\"\n",
    "target_file = \"C:/Ourfolders/Aly/MK_WB/data/utility/cpv_2007.csv\"\n",
    "output_file = \"C:/Ourfolders/Aly/MK_WB/data/processed/MK_202302_cpv_update.csv\"\n",
    "main(input_file, target_file, output_file)"
   ]
  }
 ],
 "metadata": {
  "kernelspec": {
   "display_name": "Python 3 (ipykernel)",
   "language": "python",
   "name": "python3"
  },
  "language_info": {
   "codemirror_mode": {
    "name": "ipython",
    "version": 3
   },
   "file_extension": ".py",
   "mimetype": "text/x-python",
   "name": "python",
   "nbconvert_exporter": "python",
   "pygments_lexer": "ipython3",
   "version": "3.9.13"
  }
 },
 "nbformat": 4,
 "nbformat_minor": 2
}
